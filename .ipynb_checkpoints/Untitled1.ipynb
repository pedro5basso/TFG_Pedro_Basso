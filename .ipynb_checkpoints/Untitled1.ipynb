{
 "cells": [
  {
   "cell_type": "code",
   "execution_count": 8,
   "metadata": {},
   "outputs": [],
   "source": [
    "from tkinter import *"
   ]
  },
  {
   "cell_type": "code",
   "execution_count": 9,
   "metadata": {},
   "outputs": [],
   "source": [
    "my_window = Tk()\n",
    "my_window.geometry(\"200x100\")\n",
    "\n",
    "button_1 = Button(my_window, text=\"Click me\")\n",
    "\n",
    "button_1.pack()\n",
    "\n",
    "my_window.mainloop()"
   ]
  },
  {
   "cell_type": "code",
   "execution_count": 10,
   "metadata": {},
   "outputs": [],
   "source": [
    "class App(Frame):\n",
    "    def __init__(self, master=None):\n",
    "        Frame.__init__(self, master)\n",
    "        self.pack()\n",
    "\n",
    "        self.entrythingy = Entry()\n",
    "        self.entrythingy.pack()\n",
    "\n",
    "        # here is the application variable\n",
    "        self.contents = StringVar()\n",
    "        # set it to some value\n",
    "        self.contents.set(\"this is a variable\")\n",
    "        # tell the entry widget to watch this variable\n",
    "        self.entrythingy[\"textvariable\"] = self.contents\n",
    "\n",
    "        # and here we get a callback when the user hits return.\n",
    "        # we will have the program print out the value of the\n",
    "        # application variable when the user hits return\n",
    "        self.entrythingy.bind('<Key-Return>',\n",
    "                              self.print_contents)\n",
    "\n",
    "    def print_contents(self, event):\n",
    "        print(\"hi. contents of entry is now ---->\",\n",
    "              self.contents.get())"
   ]
  }
 ],
 "metadata": {
  "kernelspec": {
   "display_name": "Python 3",
   "language": "python",
   "name": "python3"
  },
  "language_info": {
   "codemirror_mode": {
    "name": "ipython",
    "version": 3
   },
   "file_extension": ".py",
   "mimetype": "text/x-python",
   "name": "python",
   "nbconvert_exporter": "python",
   "pygments_lexer": "ipython3",
   "version": "3.7.3"
  }
 },
 "nbformat": 4,
 "nbformat_minor": 2
}
